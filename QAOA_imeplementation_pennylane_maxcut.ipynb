{
  "cells": [
    {
      "cell_type": "code",
      "execution_count": 1,
      "id": "4e613b8a",
      "metadata": {
        "vscode": {
          "languageId": "plaintext"
        },
        "colab": {
          "base_uri": "https://localhost:8080/"
        },
        "collapsed": true,
        "id": "4e613b8a",
        "outputId": "2d7e486c-f373-4d7e-b9c2-29398622e15f"
      },
      "outputs": [
        {
          "output_type": "stream",
          "name": "stdout",
          "text": [
            "Collecting pennylane\n",
            "  Downloading pennylane-0.42.2-py3-none-any.whl.metadata (11 kB)\n",
            "Requirement already satisfied: scipy in /usr/local/lib/python3.11/dist-packages (from pennylane) (1.16.1)\n",
            "Requirement already satisfied: networkx in /usr/local/lib/python3.11/dist-packages (from pennylane) (3.5)\n",
            "Collecting rustworkx>=0.14.0 (from pennylane)\n",
            "  Downloading rustworkx-0.17.1-cp39-abi3-manylinux_2_17_x86_64.manylinux2014_x86_64.whl.metadata (10 kB)\n",
            "Requirement already satisfied: autograd in /usr/local/lib/python3.11/dist-packages (from pennylane) (1.8.0)\n",
            "Collecting appdirs (from pennylane)\n",
            "  Downloading appdirs-1.4.4-py2.py3-none-any.whl.metadata (9.0 kB)\n",
            "Collecting autoray>=0.6.11 (from pennylane)\n",
            "  Downloading autoray-0.7.2-py3-none-any.whl.metadata (5.8 kB)\n",
            "Requirement already satisfied: cachetools in /usr/local/lib/python3.11/dist-packages (from pennylane) (5.5.2)\n",
            "Collecting pennylane-lightning>=0.42 (from pennylane)\n",
            "  Downloading pennylane_lightning-0.42.0-cp311-cp311-manylinux_2_28_x86_64.whl.metadata (11 kB)\n",
            "Requirement already satisfied: requests in /usr/local/lib/python3.11/dist-packages (from pennylane) (2.32.3)\n",
            "Requirement already satisfied: tomlkit in /usr/local/lib/python3.11/dist-packages (from pennylane) (0.13.3)\n",
            "Requirement already satisfied: typing_extensions in /usr/local/lib/python3.11/dist-packages (from pennylane) (4.14.1)\n",
            "Requirement already satisfied: packaging in /usr/local/lib/python3.11/dist-packages (from pennylane) (25.0)\n",
            "Collecting diastatic-malt (from pennylane)\n",
            "  Downloading diastatic_malt-2.15.2-py3-none-any.whl.metadata (2.6 kB)\n",
            "Requirement already satisfied: numpy in /usr/local/lib/python3.11/dist-packages (from pennylane) (2.0.2)\n",
            "Collecting scipy-openblas32>=0.3.26 (from pennylane-lightning>=0.42->pennylane)\n",
            "  Downloading scipy_openblas32-0.3.30.0.2-py3-none-manylinux2014_x86_64.manylinux_2_17_x86_64.whl.metadata (57 kB)\n",
            "\u001b[2K     \u001b[90m━━━━━━━━━━━━━━━━━━━━━━━━━━━━━━━━━━━━━━━━\u001b[0m \u001b[32m57.1/57.1 kB\u001b[0m \u001b[31m2.0 MB/s\u001b[0m eta \u001b[36m0:00:00\u001b[0m\n",
            "\u001b[?25hRequirement already satisfied: astunparse in /usr/local/lib/python3.11/dist-packages (from diastatic-malt->pennylane) (1.6.3)\n",
            "Requirement already satisfied: gast in /usr/local/lib/python3.11/dist-packages (from diastatic-malt->pennylane) (0.6.0)\n",
            "Requirement already satisfied: termcolor in /usr/local/lib/python3.11/dist-packages (from diastatic-malt->pennylane) (3.1.0)\n",
            "Requirement already satisfied: charset-normalizer<4,>=2 in /usr/local/lib/python3.11/dist-packages (from requests->pennylane) (3.4.3)\n",
            "Requirement already satisfied: idna<4,>=2.5 in /usr/local/lib/python3.11/dist-packages (from requests->pennylane) (3.10)\n",
            "Requirement already satisfied: urllib3<3,>=1.21.1 in /usr/local/lib/python3.11/dist-packages (from requests->pennylane) (2.5.0)\n",
            "Requirement already satisfied: certifi>=2017.4.17 in /usr/local/lib/python3.11/dist-packages (from requests->pennylane) (2025.8.3)\n",
            "Requirement already satisfied: wheel<1.0,>=0.23.0 in /usr/local/lib/python3.11/dist-packages (from astunparse->diastatic-malt->pennylane) (0.45.1)\n",
            "Requirement already satisfied: six<2.0,>=1.6.1 in /usr/local/lib/python3.11/dist-packages (from astunparse->diastatic-malt->pennylane) (1.17.0)\n",
            "Downloading pennylane-0.42.2-py3-none-any.whl (4.8 MB)\n",
            "\u001b[2K   \u001b[90m━━━━━━━━━━━━━━━━━━━━━━━━━━━━━━━━━━━━━━━━\u001b[0m \u001b[32m4.8/4.8 MB\u001b[0m \u001b[31m42.5 MB/s\u001b[0m eta \u001b[36m0:00:00\u001b[0m\n",
            "\u001b[?25hDownloading autoray-0.7.2-py3-none-any.whl (930 kB)\n",
            "\u001b[2K   \u001b[90m━━━━━━━━━━━━━━━━━━━━━━━━━━━━━━━━━━━━━━━━\u001b[0m \u001b[32m930.8/930.8 kB\u001b[0m \u001b[31m35.1 MB/s\u001b[0m eta \u001b[36m0:00:00\u001b[0m\n",
            "\u001b[?25hDownloading pennylane_lightning-0.42.0-cp311-cp311-manylinux_2_28_x86_64.whl (2.6 MB)\n",
            "\u001b[2K   \u001b[90m━━━━━━━━━━━━━━━━━━━━━━━━━━━━━━━━━━━━━━━━\u001b[0m \u001b[32m2.6/2.6 MB\u001b[0m \u001b[31m65.4 MB/s\u001b[0m eta \u001b[36m0:00:00\u001b[0m\n",
            "\u001b[?25hDownloading rustworkx-0.17.1-cp39-abi3-manylinux_2_17_x86_64.manylinux2014_x86_64.whl (2.2 MB)\n",
            "\u001b[2K   \u001b[90m━━━━━━━━━━━━━━━━━━━━━━━━━━━━━━━━━━━━━━━━\u001b[0m \u001b[32m2.2/2.2 MB\u001b[0m \u001b[31m58.8 MB/s\u001b[0m eta \u001b[36m0:00:00\u001b[0m\n",
            "\u001b[?25hDownloading appdirs-1.4.4-py2.py3-none-any.whl (9.6 kB)\n",
            "Downloading diastatic_malt-2.15.2-py3-none-any.whl (167 kB)\n",
            "\u001b[2K   \u001b[90m━━━━━━━━━━━━━━━━━━━━━━━━━━━━━━━━━━━━━━━━\u001b[0m \u001b[32m167.9/167.9 kB\u001b[0m \u001b[31m9.7 MB/s\u001b[0m eta \u001b[36m0:00:00\u001b[0m\n",
            "\u001b[?25hDownloading scipy_openblas32-0.3.30.0.2-py3-none-manylinux2014_x86_64.manylinux_2_17_x86_64.whl (8.6 MB)\n",
            "\u001b[2K   \u001b[90m━━━━━━━━━━━━━━━━━━━━━━━━━━━━━━━━━━━━━━━━\u001b[0m \u001b[32m8.6/8.6 MB\u001b[0m \u001b[31m84.7 MB/s\u001b[0m eta \u001b[36m0:00:00\u001b[0m\n",
            "\u001b[?25hInstalling collected packages: appdirs, scipy-openblas32, rustworkx, autoray, diastatic-malt, pennylane-lightning, pennylane\n",
            "Successfully installed appdirs-1.4.4 autoray-0.7.2 diastatic-malt-2.15.2 pennylane-0.42.2 pennylane-lightning-0.42.0 rustworkx-0.17.1 scipy-openblas32-0.3.30.0.2\n"
          ]
        }
      ],
      "source": [
        "!pip install pennylane"
      ]
    },
    {
      "cell_type": "code",
      "source": [
        "import pennylane as qml\n",
        "from pennylane import numpy as np\n",
        "\n",
        "np.random.seed(42)"
      ],
      "metadata": {
        "id": "AYTcG6Cqvf25"
      },
      "id": "AYTcG6Cqvf25",
      "execution_count": 2,
      "outputs": []
    },
    {
      "cell_type": "code",
      "source": [
        "n_wires = 4\n",
        "graph = [(0, 1), (0, 3), (1, 2), (2, 3)]\n",
        "\n",
        "\n",
        "# unitary operator U_B with parameter beta\n",
        "def U_B(beta):\n",
        "    for wire in range(n_wires):\n",
        "        qml.RX(2 * beta, wires=wire)\n",
        "\n",
        "\n",
        "# unitary operator U_C with parameter gamma\n",
        "def U_C(gamma):\n",
        "    for edge in graph:\n",
        "        qml.CNOT(wires=edge)\n",
        "        qml.RZ(gamma, wires=edge[1])\n",
        "        qml.CNOT(wires=edge)\n",
        "        # Could also do\n",
        "        # IsingZZ(gamma, wires=edge)"
      ],
      "metadata": {
        "id": "9p_eZboDv-BQ"
      },
      "id": "9p_eZboDv-BQ",
      "execution_count": 3,
      "outputs": []
    },
    {
      "cell_type": "code",
      "source": [
        "def bitstring_to_int(bit_string_sample):\n",
        "    return int(2 ** np.arange(len(bit_string_sample)) @ bit_string_sample[::-1])"
      ],
      "metadata": {
        "id": "Bjx8KH5RwIqV"
      },
      "id": "Bjx8KH5RwIqV",
      "execution_count": 4,
      "outputs": []
    },
    {
      "cell_type": "code",
      "source": [
        "dev = qml.device(\"lightning.qubit\", wires=n_wires, shots=20)"
      ],
      "metadata": {
        "id": "nbA4jCF-wa3E"
      },
      "id": "nbA4jCF-wa3E",
      "execution_count": 5,
      "outputs": []
    },
    {
      "cell_type": "code",
      "source": [
        "@qml.qnode(dev)\n",
        "def circuit(gammas, betas, return_samples=False):\n",
        "    # apply Hadamards to get the n qubit |+> state\n",
        "    for wire in range(n_wires):\n",
        "        qml.Hadamard(wires=wire)\n",
        "    # p instances of unitary operators\n",
        "    for gamma, beta in zip(gammas, betas):\n",
        "        U_C(gamma)\n",
        "        U_B(beta)\n",
        "\n",
        "    if return_samples:\n",
        "        # sample bitstrings to obtain cuts\n",
        "        return qml.sample()\n",
        "    # during the optimization phase we are evaluating the objective using expval\n",
        "    C = qml.sum(*(qml.Z(w1) @ qml.Z(w2) for w1, w2 in graph))\n",
        "    return qml.expval(C)\n",
        "\n",
        "\n",
        "def objective(params):\n",
        "    \"\"\"Minimize the negative of the objective function C by postprocessing the QNnode output.\"\"\"\n",
        "    return -0.5 * (len(graph) - circuit(*params))"
      ],
      "metadata": {
        "id": "1r1fcNbkwatq"
      },
      "id": "1r1fcNbkwatq",
      "execution_count": 6,
      "outputs": []
    },
    {
      "cell_type": "code",
      "source": [
        "def qaoa_maxcut(n_layers=1):\n",
        "    print(f\"\\np={n_layers:d}\")\n",
        "\n",
        "    # initialize the parameters near zero\n",
        "    init_params = 0.01 * np.random.rand(2, n_layers, requires_grad=True)\n",
        "\n",
        "    # initialize optimizer: Adagrad works well empirically\n",
        "    opt = qml.AdagradOptimizer(stepsize=0.5)\n",
        "\n",
        "    # optimize parameters in objective\n",
        "    params = init_params.copy()\n",
        "    steps = 30\n",
        "    for i in range(steps):\n",
        "        params = opt.step(objective, params)\n",
        "        if (i + 1) % 5 == 0:\n",
        "            print(f\"Objective after step {i+1:3d}: {-objective(params): .7f}\")\n",
        "\n",
        "    # sample 100 bitstrings by setting return_samples=True and the QNode shot count to 100\n",
        "    bitstrings = circuit(*params, return_samples=True, shots=100)\n",
        "    # convert the samples bitstrings to integers\n",
        "    sampled_ints = [bitstring_to_int(string) for string in bitstrings]\n",
        "\n",
        "    # print optimal parameters and most frequently sampled bitstring\n",
        "    counts = np.bincount(np.array(sampled_ints))\n",
        "    most_freq_bit_string = np.argmax(counts)\n",
        "    print(f\"Optimized parameter vectors:\\ngamma: {params[0]}\\nbeta:  {params[1]}\")\n",
        "    print(f\"Most frequently sampled bit string is: {most_freq_bit_string:04b}\")\n",
        "\n",
        "    return -objective(params), sampled_ints\n",
        "\n",
        "\n",
        "# perform QAOA on our graph with p=1,2 and keep the lists of sampled integers\n",
        "int_samples1 = qaoa_maxcut(n_layers=1)[1]\n",
        "int_samples2 = qaoa_maxcut(n_layers=2)[1]"
      ],
      "metadata": {
        "id": "mLkBh4YGwuLt",
        "outputId": "0712dce1-1b95-4698-e215-c2bf3e4f9a14",
        "colab": {
          "base_uri": "https://localhost:8080/"
        }
      },
      "id": "mLkBh4YGwuLt",
      "execution_count": 7,
      "outputs": [
        {
          "output_type": "stream",
          "name": "stdout",
          "text": [
            "\n",
            "p=1\n",
            "Objective after step   5:  2.7000000\n",
            "Objective after step  10:  2.6000000\n",
            "Objective after step  15:  2.8000000\n",
            "Objective after step  20:  3.1000000\n",
            "Objective after step  25:  2.5000000\n",
            "Objective after step  30:  2.8000000\n",
            "Optimized parameter vectors:\n",
            "gamma: [-0.85012621]\n",
            "beta:  [-1.1387739]\n",
            "Most frequently sampled bit string is: 0101\n",
            "\n",
            "p=2\n",
            "Objective after step   5:  3.9000000\n",
            "Objective after step  10:  4.0000000\n",
            "Objective after step  15:  4.0000000\n",
            "Objective after step  20:  3.7000000\n",
            "Objective after step  25:  4.0000000\n",
            "Objective after step  30:  4.0000000\n",
            "Optimized parameter vectors:\n",
            "gamma: [-0.87006543 -1.12209739]\n",
            "beta:  [0.60119142 0.4741234 ]\n",
            "Most frequently sampled bit string is: 1010\n"
          ]
        }
      ]
    },
    {
      "cell_type": "code",
      "source": [
        "def qaoa_maxcut(n_layers=1):\n",
        "    print(f\"\\np={n_layers:d}\")\n",
        "\n",
        "    # initialize the parameters near zero\n",
        "    init_params = 0.01 * np.random.rand(2, n_layers, requires_grad=True)\n",
        "\n",
        "    # initialize optimizer: Adagrad works well empirically\n",
        "    opt = qml.AdagradOptimizer(stepsize=0.5)\n",
        "\n",
        "    # optimize parameters in objective\n",
        "    params = init_params.copy()\n",
        "    steps = 30\n",
        "    for i in range(steps):\n",
        "        params = opt.step(objective, params)\n",
        "        if (i + 1) % 5 == 0:\n",
        "            print(f\"Objective after step {i+1:3d}: {-objective(params): .7f}\")\n",
        "\n",
        "    # sample 100 bitstrings by setting return_samples=True and the QNode shot count to 100\n",
        "    bitstrings = circuit(*params, return_samples=True, shots=100)\n",
        "    # convert the samples bitstrings to integers\n",
        "    sampled_ints = [bitstring_to_int(string) for string in bitstrings]\n",
        "\n",
        "    # print optimal parameters and most frequently sampled bitstring\n",
        "    counts = np.bincount(np.array(sampled_ints))\n",
        "    most_freq_bit_string = np.argmax(counts)\n",
        "    print(f\"Optimized parameter vectors:\\ngamma: {params[0]}\\nbeta:  {params[1]}\")\n",
        "    print(f\"Most frequently sampled bit string is: {most_freq_bit_string:04b}\")\n",
        "\n",
        "    return -objective(params), sampled_ints\n",
        "\n",
        "\n",
        "# perform QAOA on our graph with p=1,2 and keep the lists of sampled integers\n",
        "int_samples1 = qaoa_maxcut(n_layers=1)[1]\n",
        "int_samples2 = qaoa_maxcut(n_layers=2)[1]"
      ],
      "metadata": {
        "id": "apOsTEnmw-6E",
        "outputId": "35f277a8-b20e-4bf5-d4c1-76da66475f47",
        "colab": {
          "base_uri": "https://localhost:8080/"
        }
      },
      "id": "apOsTEnmw-6E",
      "execution_count": 8,
      "outputs": [
        {
          "output_type": "stream",
          "name": "stdout",
          "text": [
            "\n",
            "p=1\n",
            "Objective after step   5:  2.5000000\n",
            "Objective after step  10:  3.1000000\n",
            "Objective after step  15:  2.7000000\n",
            "Objective after step  20:  3.0000000\n",
            "Objective after step  25:  2.9000000\n",
            "Objective after step  30:  2.6000000\n",
            "Optimized parameter vectors:\n",
            "gamma: [-0.68652458]\n",
            "beta:  [0.3008973]\n",
            "Most frequently sampled bit string is: 1010\n",
            "\n",
            "p=2\n",
            "Objective after step   5:  1.8000000\n",
            "Objective after step  10:  3.4000000\n",
            "Objective after step  15:  3.6000000\n",
            "Objective after step  20:  4.0000000\n",
            "Objective after step  25:  4.0000000\n",
            "Objective after step  30:  4.0000000\n",
            "Optimized parameter vectors:\n",
            "gamma: [0.90178055 1.06578107]\n",
            "beta:  [-0.52024997 -0.46475929]\n",
            "Most frequently sampled bit string is: 1010\n"
          ]
        }
      ]
    },
    {
      "cell_type": "code",
      "source": [
        "import matplotlib.pyplot as plt\n",
        "\n",
        "xticks = range(0, 16)\n",
        "xtick_labels = list(map(lambda x: format(x, \"04b\"), xticks))\n",
        "bins = np.arange(0, 17) - 0.5\n",
        "\n",
        "fig, _ = plt.subplots(1, 2, figsize=(8, 4))\n",
        "for i, samples in enumerate([int_samples1, int_samples2], start=1):\n",
        "    plt.subplot(1, 2, i)\n",
        "    plt.title(f\"n_layers={i}\")\n",
        "    plt.xlabel(\"bitstrings\")\n",
        "    plt.ylabel(\"freq.\")\n",
        "    plt.xticks(xticks, xtick_labels, rotation=\"vertical\")\n",
        "    plt.hist(samples, bins=bins)\n",
        "plt.tight_layout()\n",
        "plt.show()"
      ],
      "metadata": {
        "id": "eHGbvAYjxFoD",
        "outputId": "21325023-c60a-44e4-a2e7-6f07971667d4",
        "colab": {
          "base_uri": "https://localhost:8080/",
          "height": 407
        }
      },
      "id": "eHGbvAYjxFoD",
      "execution_count": 9,
      "outputs": [
        {
          "output_type": "display_data",
          "data": {
            "text/plain": [
              "<Figure size 800x400 with 2 Axes>"
            ],
            "image/png": "[encoded data removed]"
          },
          "metadata": {}
        }
      ]
    }
  ],
  "metadata": {
    "language_info": {
      "name": "python"
    },
    "colab": {
      "provenance": []
    },
    "kernelspec": {
      "name": "python3",
      "display_name": "Python 3"
    }
  },
  "nbformat": 4,
  "nbformat_minor": 5
}